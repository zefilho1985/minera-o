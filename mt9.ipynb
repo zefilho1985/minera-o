{
 "cells": [
  {
   "cell_type": "code",
   "execution_count": 4,
   "id": "5e16838e-b2f1-43f5-9a23-78347d65b8d1",
   "metadata": {},
   "outputs": [],
   "source": [
    "import pandas as pd\n",
    "import numpy as np\n",
    "import matplotlib.pyplot as plt\n",
    "from sklearn.linear_model import LinearRegression\n",
    "df= pd.read_csv('mat.9.csv', encoding='utf-8', delimiter = ';')"
   ]
  },
  {
   "cell_type": "code",
   "execution_count": 5,
   "id": "42978a82-a8ba-431c-80bf-77fa9302a28f",
   "metadata": {},
   "outputs": [
    {
     "data": {
      "text/html": [
       "<div>\n",
       "<style scoped>\n",
       "    .dataframe tbody tr th:only-of-type {\n",
       "        vertical-align: middle;\n",
       "    }\n",
       "\n",
       "    .dataframe tbody tr th {\n",
       "        vertical-align: top;\n",
       "    }\n",
       "\n",
       "    .dataframe thead th {\n",
       "        text-align: right;\n",
       "    }\n",
       "</style>\n",
       "<table border=\"1\" class=\"dataframe\">\n",
       "  <thead>\n",
       "    <tr style=\"text-align: right;\">\n",
       "      <th></th>\n",
       "      <th>CIDADE</th>\n",
       "      <th>INEP</th>\n",
       "      <th>NOME DA ESCOLA</th>\n",
       "      <th>EDICAO</th>\n",
       "      <th>CLASSIFICACAO</th>\n",
       "      <th>INICIAL</th>\n",
       "      <th>INTERMEDIARIO</th>\n",
       "      <th>FINAL</th>\n",
       "      <th>PROFICIENCIA</th>\n",
       "    </tr>\n",
       "  </thead>\n",
       "  <tbody>\n",
       "    <tr>\n",
       "      <th>0</th>\n",
       "      <td>FORTALEZA</td>\n",
       "      <td>23080124</td>\n",
       "      <td>DURVAL AIRES JORNALISTA EMEF</td>\n",
       "      <td>2019</td>\n",
       "      <td>Critico</td>\n",
       "      <td>31</td>\n",
       "      <td>38</td>\n",
       "      <td>64</td>\n",
       "      <td>243</td>\n",
       "    </tr>\n",
       "    <tr>\n",
       "      <th>1</th>\n",
       "      <td>FORTALEZA</td>\n",
       "      <td>23259418</td>\n",
       "      <td>ESCOLA MUNICIPAL 11 DE AGOSTO</td>\n",
       "      <td>2018</td>\n",
       "      <td>Critico</td>\n",
       "      <td>35</td>\n",
       "      <td>37</td>\n",
       "      <td>46</td>\n",
       "      <td>248</td>\n",
       "    </tr>\n",
       "    <tr>\n",
       "      <th>2</th>\n",
       "      <td>FORTALEZA</td>\n",
       "      <td>23259418</td>\n",
       "      <td>ESCOLA MUNICIPAL 11 DE AGOSTO</td>\n",
       "      <td>2019</td>\n",
       "      <td>Critico</td>\n",
       "      <td>34</td>\n",
       "      <td>46</td>\n",
       "      <td>44</td>\n",
       "      <td>248</td>\n",
       "    </tr>\n",
       "    <tr>\n",
       "      <th>3</th>\n",
       "      <td>FORTALEZA</td>\n",
       "      <td>23259418</td>\n",
       "      <td>ESCOLA MUNICIPAL 11 DE AGOSTO</td>\n",
       "      <td>2022</td>\n",
       "      <td>Critico</td>\n",
       "      <td>44</td>\n",
       "      <td>37</td>\n",
       "      <td>39</td>\n",
       "      <td>240</td>\n",
       "    </tr>\n",
       "    <tr>\n",
       "      <th>4</th>\n",
       "      <td>FORTALEZA</td>\n",
       "      <td>23065192</td>\n",
       "      <td>ESCOLA MUNICIPAL ANGELICA GURGEL</td>\n",
       "      <td>2018</td>\n",
       "      <td>Critico</td>\n",
       "      <td>36</td>\n",
       "      <td>35</td>\n",
       "      <td>41</td>\n",
       "      <td>255</td>\n",
       "    </tr>\n",
       "    <tr>\n",
       "      <th>...</th>\n",
       "      <td>...</td>\n",
       "      <td>...</td>\n",
       "      <td>...</td>\n",
       "      <td>...</td>\n",
       "      <td>...</td>\n",
       "      <td>...</td>\n",
       "      <td>...</td>\n",
       "      <td>...</td>\n",
       "      <td>...</td>\n",
       "    </tr>\n",
       "    <tr>\n",
       "      <th>367</th>\n",
       "      <td>FORTALEZA</td>\n",
       "      <td>23078600</td>\n",
       "      <td>ESCOLA MUNICIPAL YOLANDA QUEIROZ</td>\n",
       "      <td>2022</td>\n",
       "      <td>Critico</td>\n",
       "      <td>38</td>\n",
       "      <td>42</td>\n",
       "      <td>43</td>\n",
       "      <td>234</td>\n",
       "    </tr>\n",
       "    <tr>\n",
       "      <th>368</th>\n",
       "      <td>FORTALEZA</td>\n",
       "      <td>23078626</td>\n",
       "      <td>ESCOLA MUNICIPAL ZAIRA MONTEIRO GONDIM</td>\n",
       "      <td>2018</td>\n",
       "      <td>Critico</td>\n",
       "      <td>41</td>\n",
       "      <td>46</td>\n",
       "      <td>47</td>\n",
       "      <td>257</td>\n",
       "    </tr>\n",
       "    <tr>\n",
       "      <th>369</th>\n",
       "      <td>FORTALEZA</td>\n",
       "      <td>23078626</td>\n",
       "      <td>ESCOLA MUNICIPAL ZAIRA MONTEIRO GONDIM</td>\n",
       "      <td>2019</td>\n",
       "      <td>Critico</td>\n",
       "      <td>41</td>\n",
       "      <td>46</td>\n",
       "      <td>47</td>\n",
       "      <td>255</td>\n",
       "    </tr>\n",
       "    <tr>\n",
       "      <th>370</th>\n",
       "      <td>FORTALEZA</td>\n",
       "      <td>23078626</td>\n",
       "      <td>ESCOLA MUNICIPAL ZAIRA MONTEIRO GONDIM</td>\n",
       "      <td>2022</td>\n",
       "      <td>Critico</td>\n",
       "      <td>39</td>\n",
       "      <td>43</td>\n",
       "      <td>44</td>\n",
       "      <td>241</td>\n",
       "    </tr>\n",
       "    <tr>\n",
       "      <th>371</th>\n",
       "      <td>FORTALEZA</td>\n",
       "      <td>23213140</td>\n",
       "      <td>Ma ROCHELLE DA SILVA EMEIEF</td>\n",
       "      <td>2019</td>\n",
       "      <td>Critico</td>\n",
       "      <td>41</td>\n",
       "      <td>45</td>\n",
       "      <td>46</td>\n",
       "      <td>252</td>\n",
       "    </tr>\n",
       "  </tbody>\n",
       "</table>\n",
       "<p>372 rows × 9 columns</p>\n",
       "</div>"
      ],
      "text/plain": [
       "        CIDADE      INEP                          NOME DA ESCOLA  EDICAO  \\\n",
       "0    FORTALEZA  23080124            DURVAL AIRES JORNALISTA EMEF    2019   \n",
       "1    FORTALEZA  23259418           ESCOLA MUNICIPAL 11 DE AGOSTO    2018   \n",
       "2    FORTALEZA  23259418           ESCOLA MUNICIPAL 11 DE AGOSTO    2019   \n",
       "3    FORTALEZA  23259418           ESCOLA MUNICIPAL 11 DE AGOSTO    2022   \n",
       "4    FORTALEZA  23065192        ESCOLA MUNICIPAL ANGELICA GURGEL    2018   \n",
       "..         ...       ...                                     ...     ...   \n",
       "367  FORTALEZA  23078600        ESCOLA MUNICIPAL YOLANDA QUEIROZ    2022   \n",
       "368  FORTALEZA  23078626  ESCOLA MUNICIPAL ZAIRA MONTEIRO GONDIM    2018   \n",
       "369  FORTALEZA  23078626  ESCOLA MUNICIPAL ZAIRA MONTEIRO GONDIM    2019   \n",
       "370  FORTALEZA  23078626  ESCOLA MUNICIPAL ZAIRA MONTEIRO GONDIM    2022   \n",
       "371  FORTALEZA  23213140             Ma ROCHELLE DA SILVA EMEIEF    2019   \n",
       "\n",
       "    CLASSIFICACAO  INICIAL  INTERMEDIARIO  FINAL  PROFICIENCIA  \n",
       "0         Critico       31             38     64           243  \n",
       "1         Critico       35             37     46           248  \n",
       "2         Critico       34             46     44           248  \n",
       "3         Critico       44             37     39           240  \n",
       "4         Critico       36             35     41           255  \n",
       "..            ...      ...            ...    ...           ...  \n",
       "367       Critico       38             42     43           234  \n",
       "368       Critico       41             46     47           257  \n",
       "369       Critico       41             46     47           255  \n",
       "370       Critico       39             43     44           241  \n",
       "371       Critico       41             45     46           252  \n",
       "\n",
       "[372 rows x 9 columns]"
      ]
     },
     "metadata": {},
     "output_type": "display_data"
    }
   ],
   "source": [
    "display(df)"
   ]
  },
  {
   "cell_type": "code",
   "execution_count": 6,
   "id": "7980adf7-178a-4f7d-9efa-fd68ad45b56e",
   "metadata": {},
   "outputs": [],
   "source": [
    "df.drop('CIDADE',axis=1,inplace=True)\n",
    "df.drop('INEP',axis=1,inplace=True)\n",
    "df.drop('NOME DA ESCOLA',axis=1, inplace=True)\n",
    "df.drop('EDICAO',axis=1,inplace=True)\n",
    "df.drop('CLASSIFICACAO',axis=1,inplace=True)"
   ]
  },
  {
   "cell_type": "code",
   "execution_count": 7,
   "id": "587f4fe7-f51f-44a0-a6b9-ad1a71beffa2",
   "metadata": {},
   "outputs": [
    {
     "data": {
      "text/html": [
       "<div>\n",
       "<style scoped>\n",
       "    .dataframe tbody tr th:only-of-type {\n",
       "        vertical-align: middle;\n",
       "    }\n",
       "\n",
       "    .dataframe tbody tr th {\n",
       "        vertical-align: top;\n",
       "    }\n",
       "\n",
       "    .dataframe thead th {\n",
       "        text-align: right;\n",
       "    }\n",
       "</style>\n",
       "<table border=\"1\" class=\"dataframe\">\n",
       "  <thead>\n",
       "    <tr style=\"text-align: right;\">\n",
       "      <th></th>\n",
       "      <th>INICIAL</th>\n",
       "      <th>INTERMEDIARIO</th>\n",
       "      <th>FINAL</th>\n",
       "      <th>PROFICIENCIA</th>\n",
       "    </tr>\n",
       "  </thead>\n",
       "  <tbody>\n",
       "    <tr>\n",
       "      <th>0</th>\n",
       "      <td>31</td>\n",
       "      <td>38</td>\n",
       "      <td>64</td>\n",
       "      <td>243</td>\n",
       "    </tr>\n",
       "    <tr>\n",
       "      <th>1</th>\n",
       "      <td>35</td>\n",
       "      <td>37</td>\n",
       "      <td>46</td>\n",
       "      <td>248</td>\n",
       "    </tr>\n",
       "    <tr>\n",
       "      <th>2</th>\n",
       "      <td>34</td>\n",
       "      <td>46</td>\n",
       "      <td>44</td>\n",
       "      <td>248</td>\n",
       "    </tr>\n",
       "    <tr>\n",
       "      <th>3</th>\n",
       "      <td>44</td>\n",
       "      <td>37</td>\n",
       "      <td>39</td>\n",
       "      <td>240</td>\n",
       "    </tr>\n",
       "    <tr>\n",
       "      <th>4</th>\n",
       "      <td>36</td>\n",
       "      <td>35</td>\n",
       "      <td>41</td>\n",
       "      <td>255</td>\n",
       "    </tr>\n",
       "    <tr>\n",
       "      <th>...</th>\n",
       "      <td>...</td>\n",
       "      <td>...</td>\n",
       "      <td>...</td>\n",
       "      <td>...</td>\n",
       "    </tr>\n",
       "    <tr>\n",
       "      <th>367</th>\n",
       "      <td>38</td>\n",
       "      <td>42</td>\n",
       "      <td>43</td>\n",
       "      <td>234</td>\n",
       "    </tr>\n",
       "    <tr>\n",
       "      <th>368</th>\n",
       "      <td>41</td>\n",
       "      <td>46</td>\n",
       "      <td>47</td>\n",
       "      <td>257</td>\n",
       "    </tr>\n",
       "    <tr>\n",
       "      <th>369</th>\n",
       "      <td>41</td>\n",
       "      <td>46</td>\n",
       "      <td>47</td>\n",
       "      <td>255</td>\n",
       "    </tr>\n",
       "    <tr>\n",
       "      <th>370</th>\n",
       "      <td>39</td>\n",
       "      <td>43</td>\n",
       "      <td>44</td>\n",
       "      <td>241</td>\n",
       "    </tr>\n",
       "    <tr>\n",
       "      <th>371</th>\n",
       "      <td>41</td>\n",
       "      <td>45</td>\n",
       "      <td>46</td>\n",
       "      <td>252</td>\n",
       "    </tr>\n",
       "  </tbody>\n",
       "</table>\n",
       "<p>372 rows × 4 columns</p>\n",
       "</div>"
      ],
      "text/plain": [
       "     INICIAL  INTERMEDIARIO  FINAL  PROFICIENCIA\n",
       "0         31             38     64           243\n",
       "1         35             37     46           248\n",
       "2         34             46     44           248\n",
       "3         44             37     39           240\n",
       "4         36             35     41           255\n",
       "..       ...            ...    ...           ...\n",
       "367       38             42     43           234\n",
       "368       41             46     47           257\n",
       "369       41             46     47           255\n",
       "370       39             43     44           241\n",
       "371       41             45     46           252\n",
       "\n",
       "[372 rows x 4 columns]"
      ]
     },
     "metadata": {},
     "output_type": "display_data"
    }
   ],
   "source": [
    "display(df)"
   ]
  },
  {
   "cell_type": "code",
   "execution_count": 8,
   "id": "37694af7-b328-4907-a0a3-b94a40ce7995",
   "metadata": {},
   "outputs": [],
   "source": [
    "x = df[ df.columns[: -1] ]"
   ]
  },
  {
   "cell_type": "code",
   "execution_count": 9,
   "id": "6e2cc738-a75f-43b1-8bc6-dc657a911ebd",
   "metadata": {},
   "outputs": [
    {
     "data": {
      "text/html": [
       "<div>\n",
       "<style scoped>\n",
       "    .dataframe tbody tr th:only-of-type {\n",
       "        vertical-align: middle;\n",
       "    }\n",
       "\n",
       "    .dataframe tbody tr th {\n",
       "        vertical-align: top;\n",
       "    }\n",
       "\n",
       "    .dataframe thead th {\n",
       "        text-align: right;\n",
       "    }\n",
       "</style>\n",
       "<table border=\"1\" class=\"dataframe\">\n",
       "  <thead>\n",
       "    <tr style=\"text-align: right;\">\n",
       "      <th></th>\n",
       "      <th>INICIAL</th>\n",
       "      <th>INTERMEDIARIO</th>\n",
       "      <th>FINAL</th>\n",
       "    </tr>\n",
       "  </thead>\n",
       "  <tbody>\n",
       "    <tr>\n",
       "      <th>0</th>\n",
       "      <td>31</td>\n",
       "      <td>38</td>\n",
       "      <td>64</td>\n",
       "    </tr>\n",
       "    <tr>\n",
       "      <th>1</th>\n",
       "      <td>35</td>\n",
       "      <td>37</td>\n",
       "      <td>46</td>\n",
       "    </tr>\n",
       "    <tr>\n",
       "      <th>2</th>\n",
       "      <td>34</td>\n",
       "      <td>46</td>\n",
       "      <td>44</td>\n",
       "    </tr>\n",
       "    <tr>\n",
       "      <th>3</th>\n",
       "      <td>44</td>\n",
       "      <td>37</td>\n",
       "      <td>39</td>\n",
       "    </tr>\n",
       "    <tr>\n",
       "      <th>4</th>\n",
       "      <td>36</td>\n",
       "      <td>35</td>\n",
       "      <td>41</td>\n",
       "    </tr>\n",
       "    <tr>\n",
       "      <th>...</th>\n",
       "      <td>...</td>\n",
       "      <td>...</td>\n",
       "      <td>...</td>\n",
       "    </tr>\n",
       "    <tr>\n",
       "      <th>367</th>\n",
       "      <td>38</td>\n",
       "      <td>42</td>\n",
       "      <td>43</td>\n",
       "    </tr>\n",
       "    <tr>\n",
       "      <th>368</th>\n",
       "      <td>41</td>\n",
       "      <td>46</td>\n",
       "      <td>47</td>\n",
       "    </tr>\n",
       "    <tr>\n",
       "      <th>369</th>\n",
       "      <td>41</td>\n",
       "      <td>46</td>\n",
       "      <td>47</td>\n",
       "    </tr>\n",
       "    <tr>\n",
       "      <th>370</th>\n",
       "      <td>39</td>\n",
       "      <td>43</td>\n",
       "      <td>44</td>\n",
       "    </tr>\n",
       "    <tr>\n",
       "      <th>371</th>\n",
       "      <td>41</td>\n",
       "      <td>45</td>\n",
       "      <td>46</td>\n",
       "    </tr>\n",
       "  </tbody>\n",
       "</table>\n",
       "<p>372 rows × 3 columns</p>\n",
       "</div>"
      ],
      "text/plain": [
       "     INICIAL  INTERMEDIARIO  FINAL\n",
       "0         31             38     64\n",
       "1         35             37     46\n",
       "2         34             46     44\n",
       "3         44             37     39\n",
       "4         36             35     41\n",
       "..       ...            ...    ...\n",
       "367       38             42     43\n",
       "368       41             46     47\n",
       "369       41             46     47\n",
       "370       39             43     44\n",
       "371       41             45     46\n",
       "\n",
       "[372 rows x 3 columns]"
      ]
     },
     "metadata": {},
     "output_type": "display_data"
    }
   ],
   "source": [
    "display(x)"
   ]
  },
  {
   "cell_type": "code",
   "execution_count": 10,
   "id": "66ad1464-009d-4c11-a208-82f83b7e2818",
   "metadata": {},
   "outputs": [],
   "source": [
    "y = df[ df.columns[-1: ] ]"
   ]
  },
  {
   "cell_type": "code",
   "execution_count": 11,
   "id": "cf2ca690-a3a9-4670-b62f-29b7dfc32079",
   "metadata": {},
   "outputs": [
    {
     "data": {
      "text/html": [
       "<div>\n",
       "<style scoped>\n",
       "    .dataframe tbody tr th:only-of-type {\n",
       "        vertical-align: middle;\n",
       "    }\n",
       "\n",
       "    .dataframe tbody tr th {\n",
       "        vertical-align: top;\n",
       "    }\n",
       "\n",
       "    .dataframe thead th {\n",
       "        text-align: right;\n",
       "    }\n",
       "</style>\n",
       "<table border=\"1\" class=\"dataframe\">\n",
       "  <thead>\n",
       "    <tr style=\"text-align: right;\">\n",
       "      <th></th>\n",
       "      <th>PROFICIENCIA</th>\n",
       "    </tr>\n",
       "  </thead>\n",
       "  <tbody>\n",
       "    <tr>\n",
       "      <th>0</th>\n",
       "      <td>243</td>\n",
       "    </tr>\n",
       "    <tr>\n",
       "      <th>1</th>\n",
       "      <td>248</td>\n",
       "    </tr>\n",
       "    <tr>\n",
       "      <th>2</th>\n",
       "      <td>248</td>\n",
       "    </tr>\n",
       "    <tr>\n",
       "      <th>3</th>\n",
       "      <td>240</td>\n",
       "    </tr>\n",
       "    <tr>\n",
       "      <th>4</th>\n",
       "      <td>255</td>\n",
       "    </tr>\n",
       "    <tr>\n",
       "      <th>...</th>\n",
       "      <td>...</td>\n",
       "    </tr>\n",
       "    <tr>\n",
       "      <th>367</th>\n",
       "      <td>234</td>\n",
       "    </tr>\n",
       "    <tr>\n",
       "      <th>368</th>\n",
       "      <td>257</td>\n",
       "    </tr>\n",
       "    <tr>\n",
       "      <th>369</th>\n",
       "      <td>255</td>\n",
       "    </tr>\n",
       "    <tr>\n",
       "      <th>370</th>\n",
       "      <td>241</td>\n",
       "    </tr>\n",
       "    <tr>\n",
       "      <th>371</th>\n",
       "      <td>252</td>\n",
       "    </tr>\n",
       "  </tbody>\n",
       "</table>\n",
       "<p>372 rows × 1 columns</p>\n",
       "</div>"
      ],
      "text/plain": [
       "     PROFICIENCIA\n",
       "0             243\n",
       "1             248\n",
       "2             248\n",
       "3             240\n",
       "4             255\n",
       "..            ...\n",
       "367           234\n",
       "368           257\n",
       "369           255\n",
       "370           241\n",
       "371           252\n",
       "\n",
       "[372 rows x 1 columns]"
      ]
     },
     "execution_count": 11,
     "metadata": {},
     "output_type": "execute_result"
    }
   ],
   "source": [
    "y"
   ]
  },
  {
   "cell_type": "code",
   "execution_count": 12,
   "id": "143a186b-b69b-4b86-bfc0-9f1ae8a14993",
   "metadata": {},
   "outputs": [],
   "source": [
    "from sklearn.model_selection import train_test_split"
   ]
  },
  {
   "cell_type": "code",
   "execution_count": 13,
   "id": "20032a90-5be3-488b-b555-9e2fb91f25df",
   "metadata": {},
   "outputs": [
    {
     "data": {
      "text/html": [
       "<div>\n",
       "<style scoped>\n",
       "    .dataframe tbody tr th:only-of-type {\n",
       "        vertical-align: middle;\n",
       "    }\n",
       "\n",
       "    .dataframe tbody tr th {\n",
       "        vertical-align: top;\n",
       "    }\n",
       "\n",
       "    .dataframe thead th {\n",
       "        text-align: right;\n",
       "    }\n",
       "</style>\n",
       "<table border=\"1\" class=\"dataframe\">\n",
       "  <thead>\n",
       "    <tr style=\"text-align: right;\">\n",
       "      <th></th>\n",
       "      <th>INICIAL</th>\n",
       "      <th>INTERMEDIARIO</th>\n",
       "      <th>FINAL</th>\n",
       "    </tr>\n",
       "  </thead>\n",
       "  <tbody>\n",
       "    <tr>\n",
       "      <th>55</th>\n",
       "      <td>37</td>\n",
       "      <td>48</td>\n",
       "      <td>52</td>\n",
       "    </tr>\n",
       "    <tr>\n",
       "      <th>118</th>\n",
       "      <td>37</td>\n",
       "      <td>41</td>\n",
       "      <td>42</td>\n",
       "    </tr>\n",
       "    <tr>\n",
       "      <th>349</th>\n",
       "      <td>40</td>\n",
       "      <td>44</td>\n",
       "      <td>45</td>\n",
       "    </tr>\n",
       "    <tr>\n",
       "      <th>107</th>\n",
       "      <td>29</td>\n",
       "      <td>35</td>\n",
       "      <td>37</td>\n",
       "    </tr>\n",
       "    <tr>\n",
       "      <th>185</th>\n",
       "      <td>39</td>\n",
       "      <td>43</td>\n",
       "      <td>44</td>\n",
       "    </tr>\n",
       "  </tbody>\n",
       "</table>\n",
       "</div>"
      ],
      "text/plain": [
       "     INICIAL  INTERMEDIARIO  FINAL\n",
       "55        37             48     52\n",
       "118       37             41     42\n",
       "349       40             44     45\n",
       "107       29             35     37\n",
       "185       39             43     44"
      ]
     },
     "metadata": {},
     "output_type": "display_data"
    },
    {
     "data": {
      "text/html": [
       "<div>\n",
       "<style scoped>\n",
       "    .dataframe tbody tr th:only-of-type {\n",
       "        vertical-align: middle;\n",
       "    }\n",
       "\n",
       "    .dataframe tbody tr th {\n",
       "        vertical-align: top;\n",
       "    }\n",
       "\n",
       "    .dataframe thead th {\n",
       "        text-align: right;\n",
       "    }\n",
       "</style>\n",
       "<table border=\"1\" class=\"dataframe\">\n",
       "  <thead>\n",
       "    <tr style=\"text-align: right;\">\n",
       "      <th></th>\n",
       "      <th>PROFICIENCIA</th>\n",
       "    </tr>\n",
       "  </thead>\n",
       "  <tbody>\n",
       "    <tr>\n",
       "      <th>55</th>\n",
       "      <td>265</td>\n",
       "    </tr>\n",
       "    <tr>\n",
       "      <th>118</th>\n",
       "      <td>231</td>\n",
       "    </tr>\n",
       "    <tr>\n",
       "      <th>349</th>\n",
       "      <td>246</td>\n",
       "    </tr>\n",
       "    <tr>\n",
       "      <th>107</th>\n",
       "      <td>244</td>\n",
       "    </tr>\n",
       "    <tr>\n",
       "      <th>185</th>\n",
       "      <td>240</td>\n",
       "    </tr>\n",
       "  </tbody>\n",
       "</table>\n",
       "</div>"
      ],
      "text/plain": [
       "     PROFICIENCIA\n",
       "55            265\n",
       "118           231\n",
       "349           246\n",
       "107           244\n",
       "185           240"
      ]
     },
     "metadata": {},
     "output_type": "display_data"
    }
   ],
   "source": [
    "x_train, x_test, y_train, y_test = train_test_split(x, y, test_size = 0.3)\n",
    "display(x_train.head())\n",
    "display(y_train.head())"
   ]
  },
  {
   "cell_type": "code",
   "execution_count": 34,
   "id": "dde60447-153b-4953-9100-2d02ffdae810",
   "metadata": {},
   "outputs": [
    {
     "data": {
      "text/html": [
       "<style>#sk-container-id-3 {color: black;background-color: white;}#sk-container-id-3 pre{padding: 0;}#sk-container-id-3 div.sk-toggleable {background-color: white;}#sk-container-id-3 label.sk-toggleable__label {cursor: pointer;display: block;width: 100%;margin-bottom: 0;padding: 0.3em;box-sizing: border-box;text-align: center;}#sk-container-id-3 label.sk-toggleable__label-arrow:before {content: \"▸\";float: left;margin-right: 0.25em;color: #696969;}#sk-container-id-3 label.sk-toggleable__label-arrow:hover:before {color: black;}#sk-container-id-3 div.sk-estimator:hover label.sk-toggleable__label-arrow:before {color: black;}#sk-container-id-3 div.sk-toggleable__content {max-height: 0;max-width: 0;overflow: hidden;text-align: left;background-color: #f0f8ff;}#sk-container-id-3 div.sk-toggleable__content pre {margin: 0.2em;color: black;border-radius: 0.25em;background-color: #f0f8ff;}#sk-container-id-3 input.sk-toggleable__control:checked~div.sk-toggleable__content {max-height: 200px;max-width: 100%;overflow: auto;}#sk-container-id-3 input.sk-toggleable__control:checked~label.sk-toggleable__label-arrow:before {content: \"▾\";}#sk-container-id-3 div.sk-estimator input.sk-toggleable__control:checked~label.sk-toggleable__label {background-color: #d4ebff;}#sk-container-id-3 div.sk-label input.sk-toggleable__control:checked~label.sk-toggleable__label {background-color: #d4ebff;}#sk-container-id-3 input.sk-hidden--visually {border: 0;clip: rect(1px 1px 1px 1px);clip: rect(1px, 1px, 1px, 1px);height: 1px;margin: -1px;overflow: hidden;padding: 0;position: absolute;width: 1px;}#sk-container-id-3 div.sk-estimator {font-family: monospace;background-color: #f0f8ff;border: 1px dotted black;border-radius: 0.25em;box-sizing: border-box;margin-bottom: 0.5em;}#sk-container-id-3 div.sk-estimator:hover {background-color: #d4ebff;}#sk-container-id-3 div.sk-parallel-item::after {content: \"\";width: 100%;border-bottom: 1px solid gray;flex-grow: 1;}#sk-container-id-3 div.sk-label:hover label.sk-toggleable__label {background-color: #d4ebff;}#sk-container-id-3 div.sk-serial::before {content: \"\";position: absolute;border-left: 1px solid gray;box-sizing: border-box;top: 0;bottom: 0;left: 50%;z-index: 0;}#sk-container-id-3 div.sk-serial {display: flex;flex-direction: column;align-items: center;background-color: white;padding-right: 0.2em;padding-left: 0.2em;position: relative;}#sk-container-id-3 div.sk-item {position: relative;z-index: 1;}#sk-container-id-3 div.sk-parallel {display: flex;align-items: stretch;justify-content: center;background-color: white;position: relative;}#sk-container-id-3 div.sk-item::before, #sk-container-id-3 div.sk-parallel-item::before {content: \"\";position: absolute;border-left: 1px solid gray;box-sizing: border-box;top: 0;bottom: 0;left: 50%;z-index: -1;}#sk-container-id-3 div.sk-parallel-item {display: flex;flex-direction: column;z-index: 1;position: relative;background-color: white;}#sk-container-id-3 div.sk-parallel-item:first-child::after {align-self: flex-end;width: 50%;}#sk-container-id-3 div.sk-parallel-item:last-child::after {align-self: flex-start;width: 50%;}#sk-container-id-3 div.sk-parallel-item:only-child::after {width: 0;}#sk-container-id-3 div.sk-dashed-wrapped {border: 1px dashed gray;margin: 0 0.4em 0.5em 0.4em;box-sizing: border-box;padding-bottom: 0.4em;background-color: white;}#sk-container-id-3 div.sk-label label {font-family: monospace;font-weight: bold;display: inline-block;line-height: 1.2em;}#sk-container-id-3 div.sk-label-container {text-align: center;}#sk-container-id-3 div.sk-container {/* jupyter's `normalize.less` sets `[hidden] { display: none; }` but bootstrap.min.css set `[hidden] { display: none !important; }` so we also need the `!important` here to be able to override the default hidden behavior on the sphinx rendered scikit-learn.org. See: https://github.com/scikit-learn/scikit-learn/issues/21755 */display: inline-block !important;position: relative;}#sk-container-id-3 div.sk-text-repr-fallback {display: none;}</style><div id=\"sk-container-id-3\" class=\"sk-top-container\"><div class=\"sk-text-repr-fallback\"><pre>LinearRegression()</pre><b>In a Jupyter environment, please rerun this cell to show the HTML representation or trust the notebook. <br />On GitHub, the HTML representation is unable to render, please try loading this page with nbviewer.org.</b></div><div class=\"sk-container\" hidden><div class=\"sk-item\"><div class=\"sk-estimator sk-toggleable\"><input class=\"sk-toggleable__control sk-hidden--visually\" id=\"sk-estimator-id-3\" type=\"checkbox\" checked><label for=\"sk-estimator-id-3\" class=\"sk-toggleable__label sk-toggleable__label-arrow\">LinearRegression</label><div class=\"sk-toggleable__content\"><pre>LinearRegression()</pre></div></div></div></div></div>"
      ],
      "text/plain": [
       "LinearRegression()"
      ]
     },
     "execution_count": 34,
     "metadata": {},
     "output_type": "execute_result"
    }
   ],
   "source": [
    "funcao_regressao = LinearRegression()\n",
    "funcao_regressao.fit(x_train, y_train)"
   ]
  },
  {
   "cell_type": "code",
   "execution_count": 35,
   "id": "18b19a5a-7eb8-4038-8ce8-f46a12dcd902",
   "metadata": {},
   "outputs": [
    {
     "data": {
      "text/plain": [
       "0.49516785586291046"
      ]
     },
     "execution_count": 35,
     "metadata": {},
     "output_type": "execute_result"
    }
   ],
   "source": [
    "funcao_regressao.score(x_train, y_train)"
   ]
  },
  {
   "cell_type": "code",
   "execution_count": 36,
   "id": "8be6db57-c3a7-40df-ae7c-8e4fe5d2e38a",
   "metadata": {},
   "outputs": [],
   "source": [
    "\n",
    "coef_a = funcao_regressao.coef_\n",
    "coef_l = funcao_regressao.intercept_"
   ]
  },
  {
   "cell_type": "code",
   "execution_count": 37,
   "id": "df02a044-2b4e-47a7-8559-f45063e19cb6",
   "metadata": {},
   "outputs": [],
   "source": [
    "y_pred = funcao_regressao.predict(x_test)"
   ]
  },
  {
   "cell_type": "code",
   "execution_count": 38,
   "id": "ef880144-3480-4def-bb32-ca39ce3c2241",
   "metadata": {},
   "outputs": [
    {
     "name": "stdout",
     "output_type": "stream",
     "text": [
      "(112, 1)\n",
      "(112, 1)\n"
     ]
    }
   ],
   "source": [
    "print(y_pred.shape)\n",
    "print(y_test.shape)"
   ]
  },
  {
   "cell_type": "code",
   "execution_count": 39,
   "id": "1ed20b04-c956-4171-b8ec-115cf029a28a",
   "metadata": {},
   "outputs": [
    {
     "data": {
      "text/plain": [
       "array([[1.26865325, 0.32835351, 1.00102822]])"
      ]
     },
     "execution_count": 39,
     "metadata": {},
     "output_type": "execute_result"
    }
   ],
   "source": [
    "coef_a\n"
   ]
  },
  {
   "cell_type": "code",
   "execution_count": 40,
   "id": "2ae1dd96-db1f-4bac-b127-27892e0d367a",
   "metadata": {},
   "outputs": [
    {
     "data": {
      "text/plain": [
       "array([137.93226367])"
      ]
     },
     "execution_count": 40,
     "metadata": {},
     "output_type": "execute_result"
    }
   ],
   "source": [
    "coef_l"
   ]
  },
  {
   "cell_type": "markdown",
   "id": "6a94b571-fc15-451a-aae0-677387c59529",
   "metadata": {},
   "source": [
    "formula: y = 1,26865*A + 0,32835*B + 1,00102*C + 137,93226"
   ]
  },
  {
   "cell_type": "code",
   "execution_count": 41,
   "id": "e1473249-69cf-4f6b-b403-5251cb5cc91c",
   "metadata": {},
   "outputs": [
    {
     "data": {
      "image/png": "[encoded data removed]",
      "text/plain": [
       "<Figure size 1000x600 with 1 Axes>"
      ]
     },
     "metadata": {},
     "output_type": "display_data"
    }
   ],
   "source": [
    "plt.figure(figsize=(10, 6))\n",
    "plt.scatter(y_pred, y_test, color='blue', alpha=0.7, label='Previsões vs. Valores Reais')\n",
    "plt.plot(y_test, y_test, linestyle='--', color='red', label='Linha de Referência Diagonal')\n",
    "plt.xlabel('Valores Previstos')\n",
    "plt.ylabel('Valores Reais')\n",
    "plt.title('Matemática: Gráfico de Dispersão: Previsões vs. Valores Reais')\n",
    "plt.legend()\n",
    "plt.grid(True)\n",
    "plt.tight_layout()\n",
    "plt.show()"
   ]
  },
  {
   "cell_type": "code",
   "execution_count": 24,
   "id": "212b849c-292c-48a1-98d4-3f9921b31fc9",
   "metadata": {},
   "outputs": [
    {
     "name": "stdout",
     "output_type": "stream",
     "text": [
      "RMSE: PROFICIENCIA    11.528158\n",
      "dtype: float64\n"
     ]
    },
    {
     "name": "stderr",
     "output_type": "stream",
     "text": [
      "/usr/local/lib/python3.8/dist-packages/numpy/core/fromnumeric.py:3430: FutureWarning: In a future version, DataFrame.mean(axis=None) will return a scalar mean over the entire DataFrame. To retain the old behavior, use 'frame.mean(axis=0)' or just 'frame.mean()'\n",
      "  return mean(axis=axis, dtype=dtype, out=out, **kwargs)\n"
     ]
    }
   ],
   "source": [
    "rmse = np.sqrt(np.mean((y_test - y_pred)**2))\n",
    "print(\"RMSE:\", rmse)\n"
   ]
  },
  {
   "cell_type": "code",
   "execution_count": 25,
   "id": "09ec6359-43b8-4947-8bc8-51527d1d890e",
   "metadata": {},
   "outputs": [
    {
     "name": "stdout",
     "output_type": "stream",
     "text": [
      "MAE: 7.98\n"
     ]
    }
   ],
   "source": [
    "from sklearn.metrics import mean_absolute_error\n",
    "\n",
    "mae = mean_absolute_error(y_test, y_pred)\n",
    "print(f'MAE: {mae:.2f}')"
   ]
  },
  {
   "cell_type": "code",
   "execution_count": 26,
   "id": "c3a68f83-7cb4-4b66-9fec-35c970151fd4",
   "metadata": {},
   "outputs": [
    {
     "name": "stderr",
     "output_type": "stream",
     "text": [
      "/usr/local/lib/python3.8/dist-packages/numpy/core/fromnumeric.py:3430: FutureWarning: In a future version, DataFrame.mean(axis=None) will return a scalar mean over the entire DataFrame. To retain the old behavior, use 'frame.mean(axis=0)' or just 'frame.mean()'\n",
      "  return mean(axis=axis, dtype=dtype, out=out, **kwargs)\n"
     ]
    }
   ],
   "source": [
    "def mean_absolute_percentage_error(y_test, y_pred):\n",
    "    return np.mean(np.abs((y_test - y_pred) / y_test)) * 100\n",
    "mape = mean_absolute_percentage_error(y_test, y_pred)"
   ]
  },
  {
   "cell_type": "code",
   "execution_count": 27,
   "id": "b7dc7b4b-b560-459e-964d-758ec52cdaa8",
   "metadata": {},
   "outputs": [
    {
     "name": "stdout",
     "output_type": "stream",
     "text": [
      "MAPE: 3.24%\n"
     ]
    }
   ],
   "source": [
    "def mean_absolute_percentage_error(y_true, y_pred):\n",
    "    return (np.abs((y_true - y_pred) / y_true)).mean() * 100\n",
    "y_true = y_test.values\n",
    "y_pred = y_pred\n",
    "mape = mean_absolute_percentage_error(y_true, y_pred)\n",
    "print(f'MAPE: {mape:.2f}%')"
   ]
  },
  {
   "cell_type": "code",
   "execution_count": 112,
   "id": "46909125-8e35-4b61-b764-cf8783f280de",
   "metadata": {},
   "outputs": [
    {
     "name": "stderr",
     "output_type": "stream",
     "text": [
      "/usr/local/lib/python3.8/dist-packages/sklearn/neural_network/_multilayer_perceptron.py:1617: DataConversionWarning: A column-vector y was passed when a 1d array was expected. Please change the shape of y to (n_samples, ), for example using ravel().\n",
      "  y = column_or_1d(y, warn=True)\n"
     ]
    }
   ],
   "source": [
    "from sklearn.neural_network import MLPRegressor\n",
    "model = MLPRegressor(hidden_layer_sizes=(100, 50), activation='relu', solver='adam', max_iter=1000)\n",
    "model.fit(x_train, y_train)\n",
    "previsoes=model.predict(x_test)"
   ]
  },
  {
   "cell_type": "code",
   "execution_count": 113,
   "id": "72fa0c18-68b7-484c-b929-4c4c6b8d9d60",
   "metadata": {},
   "outputs": [
    {
     "name": "stdout",
     "output_type": "stream",
     "text": [
      "RMSE: 23.202210546015348\n"
     ]
    }
   ],
   "source": [
    "from sklearn.metrics import mean_squared_error\n",
    "rmse = np.sqrt(mean_squared_error(y_test, previsoes))\n",
    "print(\"RMSE:\", rmse)"
   ]
  },
  {
   "cell_type": "code",
   "execution_count": 114,
   "id": "338bbc9d-3dbf-4807-aa16-c5b88662ab76",
   "metadata": {},
   "outputs": [
    {
     "name": "stdout",
     "output_type": "stream",
     "text": [
      "MAE: 12.08\n"
     ]
    }
   ],
   "source": [
    "from sklearn.metrics import mean_absolute_error\n",
    "mae = mean_absolute_error(y_test, previsoes)\n",
    "print(f'MAE: {mae:.2f}')"
   ]
  },
  {
   "cell_type": "code",
   "execution_count": 115,
   "id": "bbd898d2-8d68-45e6-8236-c51d38b6dd7b",
   "metadata": {},
   "outputs": [
    {
     "name": "stdout",
     "output_type": "stream",
     "text": [
      "MAPE: 8.68%\n"
     ]
    }
   ],
   "source": [
    "def mean_absolute_percentage_error(y_true, previsoes):\n",
    "    return (np.abs((y_true - previsoes) / y_true)).mean() * 100\n",
    "y_true = y_test.values  \n",
    "previsoes = previsoes\n",
    "mape = mean_absolute_percentage_error(y_true, previsoes)\n",
    "print(f'MAPE: {mape:.2f}%')"
   ]
  },
  {
   "cell_type": "code",
   "execution_count": null,
   "id": "721f06c7-d3d4-4287-a279-964ec75a93d9",
   "metadata": {},
   "outputs": [],
   "source": []
  }
 ],
 "metadata": {
  "kernelspec": {
   "display_name": "Python 3 (ipykernel)",
   "language": "python",
   "name": "python3"
  },
  "language_info": {
   "codemirror_mode": {
    "name": "ipython",
    "version": 3
   },
   "file_extension": ".py",
   "mimetype": "text/x-python",
   "name": "python",
   "nbconvert_exporter": "python",
   "pygments_lexer": "ipython3",
   "version": "3.8.10"
  }
 },
 "nbformat": 4,
 "nbformat_minor": 5
}
