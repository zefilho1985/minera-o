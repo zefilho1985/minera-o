{
 "cells": [
  {
   "cell_type": "code",
   "execution_count": 1,
   "id": "5e16838e-b2f1-43f5-9a23-78347d65b8d1",
   "metadata": {},
   "outputs": [],
   "source": [
    "import pandas as pd\n",
    "import numpy as np\n",
    "import matplotlib.pyplot as plt\n",
    "from sklearn.linear_model import LinearRegression\n",
    "df = pd.read_csv('lp.9ano.csv', encoding='utf-8', delimiter=';')"
   ]
  },
  {
   "cell_type": "code",
   "execution_count": 2,
   "id": "42978a82-a8ba-431c-80bf-77fa9302a28f",
   "metadata": {},
   "outputs": [
    {
     "data": {
      "text/html": [
       "<div>\n",
       "<style scoped>\n",
       "    .dataframe tbody tr th:only-of-type {\n",
       "        vertical-align: middle;\n",
       "    }\n",
       "\n",
       "    .dataframe tbody tr th {\n",
       "        vertical-align: top;\n",
       "    }\n",
       "\n",
       "    .dataframe thead th {\n",
       "        text-align: right;\n",
       "    }\n",
       "</style>\n",
       "<table border=\"1\" class=\"dataframe\">\n",
       "  <thead>\n",
       "    <tr style=\"text-align: right;\">\n",
       "      <th></th>\n",
       "      <th>CIDADE</th>\n",
       "      <th>INEP</th>\n",
       "      <th>NOME DA ESCOLA</th>\n",
       "      <th>EDICAO</th>\n",
       "      <th>CLASSIFICACAO</th>\n",
       "      <th>INICIAL</th>\n",
       "      <th>INTERMEDIARIO</th>\n",
       "      <th>FINAL</th>\n",
       "      <th>PROFICIENCIA</th>\n",
       "    </tr>\n",
       "  </thead>\n",
       "  <tbody>\n",
       "    <tr>\n",
       "      <th>0</th>\n",
       "      <td>FORTALEZA</td>\n",
       "      <td>23080124</td>\n",
       "      <td>DURVAL AIRES JORNALISTA EMEF</td>\n",
       "      <td>2019</td>\n",
       "      <td>Intermediario</td>\n",
       "      <td>49</td>\n",
       "      <td>60</td>\n",
       "      <td>59</td>\n",
       "      <td>264</td>\n",
       "    </tr>\n",
       "    <tr>\n",
       "      <th>1</th>\n",
       "      <td>FORTALEZA</td>\n",
       "      <td>23259418</td>\n",
       "      <td>ESCOLA MUNICIPAL 11 DE AGOSTO</td>\n",
       "      <td>2018</td>\n",
       "      <td>Intermediario</td>\n",
       "      <td>44</td>\n",
       "      <td>70</td>\n",
       "      <td>59</td>\n",
       "      <td>263</td>\n",
       "    </tr>\n",
       "    <tr>\n",
       "      <th>2</th>\n",
       "      <td>FORTALEZA</td>\n",
       "      <td>23259418</td>\n",
       "      <td>ESCOLA MUNICIPAL 11 DE AGOSTO</td>\n",
       "      <td>2019</td>\n",
       "      <td>Intermediario</td>\n",
       "      <td>58</td>\n",
       "      <td>71</td>\n",
       "      <td>63</td>\n",
       "      <td>261</td>\n",
       "    </tr>\n",
       "    <tr>\n",
       "      <th>3</th>\n",
       "      <td>FORTALEZA</td>\n",
       "      <td>23259418</td>\n",
       "      <td>ESCOLA MUNICIPAL 11 DE AGOSTO</td>\n",
       "      <td>2022</td>\n",
       "      <td>Intermediario</td>\n",
       "      <td>58</td>\n",
       "      <td>59</td>\n",
       "      <td>66</td>\n",
       "      <td>254</td>\n",
       "    </tr>\n",
       "    <tr>\n",
       "      <th>4</th>\n",
       "      <td>FORTALEZA</td>\n",
       "      <td>23065192</td>\n",
       "      <td>ESCOLA MUNICIPAL ANGELICA GURGEL</td>\n",
       "      <td>2018</td>\n",
       "      <td>Intermediario</td>\n",
       "      <td>51</td>\n",
       "      <td>71</td>\n",
       "      <td>61</td>\n",
       "      <td>272</td>\n",
       "    </tr>\n",
       "    <tr>\n",
       "      <th>...</th>\n",
       "      <td>...</td>\n",
       "      <td>...</td>\n",
       "      <td>...</td>\n",
       "      <td>...</td>\n",
       "      <td>...</td>\n",
       "      <td>...</td>\n",
       "      <td>...</td>\n",
       "      <td>...</td>\n",
       "      <td>...</td>\n",
       "    </tr>\n",
       "    <tr>\n",
       "      <th>367</th>\n",
       "      <td>FORTALEZA</td>\n",
       "      <td>23078600</td>\n",
       "      <td>ESCOLA MUNICIPAL YOLANDA QUEIROZ</td>\n",
       "      <td>2022</td>\n",
       "      <td>Critico</td>\n",
       "      <td>50</td>\n",
       "      <td>62</td>\n",
       "      <td>58</td>\n",
       "      <td>238</td>\n",
       "    </tr>\n",
       "    <tr>\n",
       "      <th>368</th>\n",
       "      <td>FORTALEZA</td>\n",
       "      <td>23078626</td>\n",
       "      <td>ESCOLA MUNICIPAL ZAIRA MONTEIRO GONDIM</td>\n",
       "      <td>2018</td>\n",
       "      <td>Intermediario</td>\n",
       "      <td>58</td>\n",
       "      <td>71</td>\n",
       "      <td>66</td>\n",
       "      <td>273</td>\n",
       "    </tr>\n",
       "    <tr>\n",
       "      <th>369</th>\n",
       "      <td>FORTALEZA</td>\n",
       "      <td>23078626</td>\n",
       "      <td>ESCOLA MUNICIPAL ZAIRA MONTEIRO GONDIM</td>\n",
       "      <td>2019</td>\n",
       "      <td>Intermediario</td>\n",
       "      <td>59</td>\n",
       "      <td>72</td>\n",
       "      <td>68</td>\n",
       "      <td>279</td>\n",
       "    </tr>\n",
       "    <tr>\n",
       "      <th>370</th>\n",
       "      <td>FORTALEZA</td>\n",
       "      <td>23078626</td>\n",
       "      <td>ESCOLA MUNICIPAL ZAIRA MONTEIRO GONDIM</td>\n",
       "      <td>2022</td>\n",
       "      <td>Intermediario</td>\n",
       "      <td>56</td>\n",
       "      <td>68</td>\n",
       "      <td>64</td>\n",
       "      <td>264</td>\n",
       "    </tr>\n",
       "    <tr>\n",
       "      <th>371</th>\n",
       "      <td>FORTALEZA</td>\n",
       "      <td>23213140</td>\n",
       "      <td>Ma ROCHELLE DA SILVA EMEIEF</td>\n",
       "      <td>2019</td>\n",
       "      <td>Intermediario</td>\n",
       "      <td>55</td>\n",
       "      <td>67</td>\n",
       "      <td>63</td>\n",
       "      <td>259</td>\n",
       "    </tr>\n",
       "  </tbody>\n",
       "</table>\n",
       "<p>372 rows × 9 columns</p>\n",
       "</div>"
      ],
      "text/plain": [
       "        CIDADE      INEP                          NOME DA ESCOLA  EDICAO  \\\n",
       "0    FORTALEZA  23080124            DURVAL AIRES JORNALISTA EMEF    2019   \n",
       "1    FORTALEZA  23259418           ESCOLA MUNICIPAL 11 DE AGOSTO    2018   \n",
       "2    FORTALEZA  23259418           ESCOLA MUNICIPAL 11 DE AGOSTO    2019   \n",
       "3    FORTALEZA  23259418           ESCOLA MUNICIPAL 11 DE AGOSTO    2022   \n",
       "4    FORTALEZA  23065192        ESCOLA MUNICIPAL ANGELICA GURGEL    2018   \n",
       "..         ...       ...                                     ...     ...   \n",
       "367  FORTALEZA  23078600        ESCOLA MUNICIPAL YOLANDA QUEIROZ    2022   \n",
       "368  FORTALEZA  23078626  ESCOLA MUNICIPAL ZAIRA MONTEIRO GONDIM    2018   \n",
       "369  FORTALEZA  23078626  ESCOLA MUNICIPAL ZAIRA MONTEIRO GONDIM    2019   \n",
       "370  FORTALEZA  23078626  ESCOLA MUNICIPAL ZAIRA MONTEIRO GONDIM    2022   \n",
       "371  FORTALEZA  23213140             Ma ROCHELLE DA SILVA EMEIEF    2019   \n",
       "\n",
       "     CLASSIFICACAO  INICIAL  INTERMEDIARIO  FINAL  PROFICIENCIA  \n",
       "0    Intermediario       49             60     59           264  \n",
       "1    Intermediario       44             70     59           263  \n",
       "2    Intermediario       58             71     63           261  \n",
       "3    Intermediario       58             59     66           254  \n",
       "4    Intermediario       51             71     61           272  \n",
       "..             ...      ...            ...    ...           ...  \n",
       "367        Critico       50             62     58           238  \n",
       "368  Intermediario       58             71     66           273  \n",
       "369  Intermediario       59             72     68           279  \n",
       "370  Intermediario       56             68     64           264  \n",
       "371  Intermediario       55             67     63           259  \n",
       "\n",
       "[372 rows x 9 columns]"
      ]
     },
     "metadata": {},
     "output_type": "display_data"
    }
   ],
   "source": [
    "display(df)"
   ]
  },
  {
   "cell_type": "code",
   "execution_count": 3,
   "id": "7980adf7-178a-4f7d-9efa-fd68ad45b56e",
   "metadata": {},
   "outputs": [],
   "source": [
    "df.drop('CIDADE',axis=1,inplace=True)\n",
    "df.drop('INEP',axis=1,inplace=True)\n",
    "df.drop('NOME DA ESCOLA',axis=1, inplace=True)\n",
    "df.drop('EDICAO',axis=1,inplace=True)\n",
    "df.drop('CLASSIFICACAO',axis=1,inplace=True)"
   ]
  },
  {
   "cell_type": "code",
   "execution_count": 4,
   "id": "587f4fe7-f51f-44a0-a6b9-ad1a71beffa2",
   "metadata": {},
   "outputs": [
    {
     "data": {
      "text/html": [
       "<div>\n",
       "<style scoped>\n",
       "    .dataframe tbody tr th:only-of-type {\n",
       "        vertical-align: middle;\n",
       "    }\n",
       "\n",
       "    .dataframe tbody tr th {\n",
       "        vertical-align: top;\n",
       "    }\n",
       "\n",
       "    .dataframe thead th {\n",
       "        text-align: right;\n",
       "    }\n",
       "</style>\n",
       "<table border=\"1\" class=\"dataframe\">\n",
       "  <thead>\n",
       "    <tr style=\"text-align: right;\">\n",
       "      <th></th>\n",
       "      <th>INICIAL</th>\n",
       "      <th>INTERMEDIARIO</th>\n",
       "      <th>FINAL</th>\n",
       "      <th>PROFICIENCIA</th>\n",
       "    </tr>\n",
       "  </thead>\n",
       "  <tbody>\n",
       "    <tr>\n",
       "      <th>0</th>\n",
       "      <td>49</td>\n",
       "      <td>60</td>\n",
       "      <td>59</td>\n",
       "      <td>264</td>\n",
       "    </tr>\n",
       "    <tr>\n",
       "      <th>1</th>\n",
       "      <td>44</td>\n",
       "      <td>70</td>\n",
       "      <td>59</td>\n",
       "      <td>263</td>\n",
       "    </tr>\n",
       "    <tr>\n",
       "      <th>2</th>\n",
       "      <td>58</td>\n",
       "      <td>71</td>\n",
       "      <td>63</td>\n",
       "      <td>261</td>\n",
       "    </tr>\n",
       "    <tr>\n",
       "      <th>3</th>\n",
       "      <td>58</td>\n",
       "      <td>59</td>\n",
       "      <td>66</td>\n",
       "      <td>254</td>\n",
       "    </tr>\n",
       "    <tr>\n",
       "      <th>4</th>\n",
       "      <td>51</td>\n",
       "      <td>71</td>\n",
       "      <td>61</td>\n",
       "      <td>272</td>\n",
       "    </tr>\n",
       "    <tr>\n",
       "      <th>...</th>\n",
       "      <td>...</td>\n",
       "      <td>...</td>\n",
       "      <td>...</td>\n",
       "      <td>...</td>\n",
       "    </tr>\n",
       "    <tr>\n",
       "      <th>367</th>\n",
       "      <td>50</td>\n",
       "      <td>62</td>\n",
       "      <td>58</td>\n",
       "      <td>238</td>\n",
       "    </tr>\n",
       "    <tr>\n",
       "      <th>368</th>\n",
       "      <td>58</td>\n",
       "      <td>71</td>\n",
       "      <td>66</td>\n",
       "      <td>273</td>\n",
       "    </tr>\n",
       "    <tr>\n",
       "      <th>369</th>\n",
       "      <td>59</td>\n",
       "      <td>72</td>\n",
       "      <td>68</td>\n",
       "      <td>279</td>\n",
       "    </tr>\n",
       "    <tr>\n",
       "      <th>370</th>\n",
       "      <td>56</td>\n",
       "      <td>68</td>\n",
       "      <td>64</td>\n",
       "      <td>264</td>\n",
       "    </tr>\n",
       "    <tr>\n",
       "      <th>371</th>\n",
       "      <td>55</td>\n",
       "      <td>67</td>\n",
       "      <td>63</td>\n",
       "      <td>259</td>\n",
       "    </tr>\n",
       "  </tbody>\n",
       "</table>\n",
       "<p>372 rows × 4 columns</p>\n",
       "</div>"
      ],
      "text/plain": [
       "     INICIAL  INTERMEDIARIO  FINAL  PROFICIENCIA\n",
       "0         49             60     59           264\n",
       "1         44             70     59           263\n",
       "2         58             71     63           261\n",
       "3         58             59     66           254\n",
       "4         51             71     61           272\n",
       "..       ...            ...    ...           ...\n",
       "367       50             62     58           238\n",
       "368       58             71     66           273\n",
       "369       59             72     68           279\n",
       "370       56             68     64           264\n",
       "371       55             67     63           259\n",
       "\n",
       "[372 rows x 4 columns]"
      ]
     },
     "metadata": {},
     "output_type": "display_data"
    }
   ],
   "source": [
    "display(df)"
   ]
  },
  {
   "cell_type": "code",
   "execution_count": 6,
   "id": "37694af7-b328-4907-a0a3-b94a40ce7995",
   "metadata": {},
   "outputs": [],
   "source": [
    "x = df[ df.columns[: -1] ]"
   ]
  },
  {
   "cell_type": "code",
   "execution_count": 7,
   "id": "6e2cc738-a75f-43b1-8bc6-dc657a911ebd",
   "metadata": {},
   "outputs": [
    {
     "data": {
      "text/html": [
       "<div>\n",
       "<style scoped>\n",
       "    .dataframe tbody tr th:only-of-type {\n",
       "        vertical-align: middle;\n",
       "    }\n",
       "\n",
       "    .dataframe tbody tr th {\n",
       "        vertical-align: top;\n",
       "    }\n",
       "\n",
       "    .dataframe thead th {\n",
       "        text-align: right;\n",
       "    }\n",
       "</style>\n",
       "<table border=\"1\" class=\"dataframe\">\n",
       "  <thead>\n",
       "    <tr style=\"text-align: right;\">\n",
       "      <th></th>\n",
       "      <th>INICIAL</th>\n",
       "      <th>INTERMEDIARIO</th>\n",
       "      <th>FINAL</th>\n",
       "    </tr>\n",
       "  </thead>\n",
       "  <tbody>\n",
       "    <tr>\n",
       "      <th>0</th>\n",
       "      <td>49</td>\n",
       "      <td>60</td>\n",
       "      <td>59</td>\n",
       "    </tr>\n",
       "    <tr>\n",
       "      <th>1</th>\n",
       "      <td>44</td>\n",
       "      <td>70</td>\n",
       "      <td>59</td>\n",
       "    </tr>\n",
       "    <tr>\n",
       "      <th>2</th>\n",
       "      <td>58</td>\n",
       "      <td>71</td>\n",
       "      <td>63</td>\n",
       "    </tr>\n",
       "    <tr>\n",
       "      <th>3</th>\n",
       "      <td>58</td>\n",
       "      <td>59</td>\n",
       "      <td>66</td>\n",
       "    </tr>\n",
       "    <tr>\n",
       "      <th>4</th>\n",
       "      <td>51</td>\n",
       "      <td>71</td>\n",
       "      <td>61</td>\n",
       "    </tr>\n",
       "    <tr>\n",
       "      <th>...</th>\n",
       "      <td>...</td>\n",
       "      <td>...</td>\n",
       "      <td>...</td>\n",
       "    </tr>\n",
       "    <tr>\n",
       "      <th>367</th>\n",
       "      <td>50</td>\n",
       "      <td>62</td>\n",
       "      <td>58</td>\n",
       "    </tr>\n",
       "    <tr>\n",
       "      <th>368</th>\n",
       "      <td>58</td>\n",
       "      <td>71</td>\n",
       "      <td>66</td>\n",
       "    </tr>\n",
       "    <tr>\n",
       "      <th>369</th>\n",
       "      <td>59</td>\n",
       "      <td>72</td>\n",
       "      <td>68</td>\n",
       "    </tr>\n",
       "    <tr>\n",
       "      <th>370</th>\n",
       "      <td>56</td>\n",
       "      <td>68</td>\n",
       "      <td>64</td>\n",
       "    </tr>\n",
       "    <tr>\n",
       "      <th>371</th>\n",
       "      <td>55</td>\n",
       "      <td>67</td>\n",
       "      <td>63</td>\n",
       "    </tr>\n",
       "  </tbody>\n",
       "</table>\n",
       "<p>372 rows × 3 columns</p>\n",
       "</div>"
      ],
      "text/plain": [
       "     INICIAL  INTERMEDIARIO  FINAL\n",
       "0         49             60     59\n",
       "1         44             70     59\n",
       "2         58             71     63\n",
       "3         58             59     66\n",
       "4         51             71     61\n",
       "..       ...            ...    ...\n",
       "367       50             62     58\n",
       "368       58             71     66\n",
       "369       59             72     68\n",
       "370       56             68     64\n",
       "371       55             67     63\n",
       "\n",
       "[372 rows x 3 columns]"
      ]
     },
     "metadata": {},
     "output_type": "display_data"
    }
   ],
   "source": [
    "display(x)"
   ]
  },
  {
   "cell_type": "code",
   "execution_count": 8,
   "id": "66ad1464-009d-4c11-a208-82f83b7e2818",
   "metadata": {},
   "outputs": [],
   "source": [
    "y = df[ df.columns[-1: ] ]"
   ]
  },
  {
   "cell_type": "code",
   "execution_count": 9,
   "id": "cf2ca690-a3a9-4670-b62f-29b7dfc32079",
   "metadata": {},
   "outputs": [
    {
     "data": {
      "text/html": [
       "<div>\n",
       "<style scoped>\n",
       "    .dataframe tbody tr th:only-of-type {\n",
       "        vertical-align: middle;\n",
       "    }\n",
       "\n",
       "    .dataframe tbody tr th {\n",
       "        vertical-align: top;\n",
       "    }\n",
       "\n",
       "    .dataframe thead th {\n",
       "        text-align: right;\n",
       "    }\n",
       "</style>\n",
       "<table border=\"1\" class=\"dataframe\">\n",
       "  <thead>\n",
       "    <tr style=\"text-align: right;\">\n",
       "      <th></th>\n",
       "      <th>PROFICIENCIA</th>\n",
       "    </tr>\n",
       "  </thead>\n",
       "  <tbody>\n",
       "    <tr>\n",
       "      <th>0</th>\n",
       "      <td>264</td>\n",
       "    </tr>\n",
       "    <tr>\n",
       "      <th>1</th>\n",
       "      <td>263</td>\n",
       "    </tr>\n",
       "    <tr>\n",
       "      <th>2</th>\n",
       "      <td>261</td>\n",
       "    </tr>\n",
       "    <tr>\n",
       "      <th>3</th>\n",
       "      <td>254</td>\n",
       "    </tr>\n",
       "    <tr>\n",
       "      <th>4</th>\n",
       "      <td>272</td>\n",
       "    </tr>\n",
       "    <tr>\n",
       "      <th>...</th>\n",
       "      <td>...</td>\n",
       "    </tr>\n",
       "    <tr>\n",
       "      <th>367</th>\n",
       "      <td>238</td>\n",
       "    </tr>\n",
       "    <tr>\n",
       "      <th>368</th>\n",
       "      <td>273</td>\n",
       "    </tr>\n",
       "    <tr>\n",
       "      <th>369</th>\n",
       "      <td>279</td>\n",
       "    </tr>\n",
       "    <tr>\n",
       "      <th>370</th>\n",
       "      <td>264</td>\n",
       "    </tr>\n",
       "    <tr>\n",
       "      <th>371</th>\n",
       "      <td>259</td>\n",
       "    </tr>\n",
       "  </tbody>\n",
       "</table>\n",
       "<p>372 rows × 1 columns</p>\n",
       "</div>"
      ],
      "text/plain": [
       "     PROFICIENCIA\n",
       "0             264\n",
       "1             263\n",
       "2             261\n",
       "3             254\n",
       "4             272\n",
       "..            ...\n",
       "367           238\n",
       "368           273\n",
       "369           279\n",
       "370           264\n",
       "371           259\n",
       "\n",
       "[372 rows x 1 columns]"
      ]
     },
     "execution_count": 9,
     "metadata": {},
     "output_type": "execute_result"
    }
   ],
   "source": [
    "y"
   ]
  },
  {
   "cell_type": "code",
   "execution_count": 10,
   "id": "143a186b-b69b-4b86-bfc0-9f1ae8a14993",
   "metadata": {},
   "outputs": [],
   "source": [
    "from sklearn.model_selection import train_test_split"
   ]
  },
  {
   "cell_type": "code",
   "execution_count": 11,
   "id": "20032a90-5be3-488b-b555-9e2fb91f25df",
   "metadata": {},
   "outputs": [
    {
     "data": {
      "text/html": [
       "<div>\n",
       "<style scoped>\n",
       "    .dataframe tbody tr th:only-of-type {\n",
       "        vertical-align: middle;\n",
       "    }\n",
       "\n",
       "    .dataframe tbody tr th {\n",
       "        vertical-align: top;\n",
       "    }\n",
       "\n",
       "    .dataframe thead th {\n",
       "        text-align: right;\n",
       "    }\n",
       "</style>\n",
       "<table border=\"1\" class=\"dataframe\">\n",
       "  <thead>\n",
       "    <tr style=\"text-align: right;\">\n",
       "      <th></th>\n",
       "      <th>INICIAL</th>\n",
       "      <th>INTERMEDIARIO</th>\n",
       "      <th>FINAL</th>\n",
       "    </tr>\n",
       "  </thead>\n",
       "  <tbody>\n",
       "    <tr>\n",
       "      <th>140</th>\n",
       "      <td>55</td>\n",
       "      <td>67</td>\n",
       "      <td>63</td>\n",
       "    </tr>\n",
       "    <tr>\n",
       "      <th>360</th>\n",
       "      <td>54</td>\n",
       "      <td>67</td>\n",
       "      <td>63</td>\n",
       "    </tr>\n",
       "    <tr>\n",
       "      <th>280</th>\n",
       "      <td>56</td>\n",
       "      <td>69</td>\n",
       "      <td>65</td>\n",
       "    </tr>\n",
       "    <tr>\n",
       "      <th>30</th>\n",
       "      <td>55</td>\n",
       "      <td>64</td>\n",
       "      <td>59</td>\n",
       "    </tr>\n",
       "    <tr>\n",
       "      <th>337</th>\n",
       "      <td>52</td>\n",
       "      <td>64</td>\n",
       "      <td>60</td>\n",
       "    </tr>\n",
       "  </tbody>\n",
       "</table>\n",
       "</div>"
      ],
      "text/plain": [
       "     INICIAL  INTERMEDIARIO  FINAL\n",
       "140       55             67     63\n",
       "360       54             67     63\n",
       "280       56             69     65\n",
       "30        55             64     59\n",
       "337       52             64     60"
      ]
     },
     "metadata": {},
     "output_type": "display_data"
    },
    {
     "data": {
      "text/html": [
       "<div>\n",
       "<style scoped>\n",
       "    .dataframe tbody tr th:only-of-type {\n",
       "        vertical-align: middle;\n",
       "    }\n",
       "\n",
       "    .dataframe tbody tr th {\n",
       "        vertical-align: top;\n",
       "    }\n",
       "\n",
       "    .dataframe thead th {\n",
       "        text-align: right;\n",
       "    }\n",
       "</style>\n",
       "<table border=\"1\" class=\"dataframe\">\n",
       "  <thead>\n",
       "    <tr style=\"text-align: right;\">\n",
       "      <th></th>\n",
       "      <th>PROFICIENCIA</th>\n",
       "    </tr>\n",
       "  </thead>\n",
       "  <tbody>\n",
       "    <tr>\n",
       "      <th>140</th>\n",
       "      <td>260</td>\n",
       "    </tr>\n",
       "    <tr>\n",
       "      <th>360</th>\n",
       "      <td>257</td>\n",
       "    </tr>\n",
       "    <tr>\n",
       "      <th>280</th>\n",
       "      <td>265</td>\n",
       "    </tr>\n",
       "    <tr>\n",
       "      <th>30</th>\n",
       "      <td>254</td>\n",
       "    </tr>\n",
       "    <tr>\n",
       "      <th>337</th>\n",
       "      <td>247</td>\n",
       "    </tr>\n",
       "  </tbody>\n",
       "</table>\n",
       "</div>"
      ],
      "text/plain": [
       "     PROFICIENCIA\n",
       "140           260\n",
       "360           257\n",
       "280           265\n",
       "30            254\n",
       "337           247"
      ]
     },
     "metadata": {},
     "output_type": "display_data"
    }
   ],
   "source": [
    "x_train, x_test, y_train, y_test = train_test_split(x, y, test_size = 0.4)\n",
    "display(x_train.head())\n",
    "display(y_train.head())"
   ]
  },
  {
   "cell_type": "code",
   "execution_count": 12,
   "id": "dde60447-153b-4953-9100-2d02ffdae810",
   "metadata": {},
   "outputs": [
    {
     "data": {
      "text/html": [
       "<style>#sk-container-id-1 {color: black;background-color: white;}#sk-container-id-1 pre{padding: 0;}#sk-container-id-1 div.sk-toggleable {background-color: white;}#sk-container-id-1 label.sk-toggleable__label {cursor: pointer;display: block;width: 100%;margin-bottom: 0;padding: 0.3em;box-sizing: border-box;text-align: center;}#sk-container-id-1 label.sk-toggleable__label-arrow:before {content: \"▸\";float: left;margin-right: 0.25em;color: #696969;}#sk-container-id-1 label.sk-toggleable__label-arrow:hover:before {color: black;}#sk-container-id-1 div.sk-estimator:hover label.sk-toggleable__label-arrow:before {color: black;}#sk-container-id-1 div.sk-toggleable__content {max-height: 0;max-width: 0;overflow: hidden;text-align: left;background-color: #f0f8ff;}#sk-container-id-1 div.sk-toggleable__content pre {margin: 0.2em;color: black;border-radius: 0.25em;background-color: #f0f8ff;}#sk-container-id-1 input.sk-toggleable__control:checked~div.sk-toggleable__content {max-height: 200px;max-width: 100%;overflow: auto;}#sk-container-id-1 input.sk-toggleable__control:checked~label.sk-toggleable__label-arrow:before {content: \"▾\";}#sk-container-id-1 div.sk-estimator input.sk-toggleable__control:checked~label.sk-toggleable__label {background-color: #d4ebff;}#sk-container-id-1 div.sk-label input.sk-toggleable__control:checked~label.sk-toggleable__label {background-color: #d4ebff;}#sk-container-id-1 input.sk-hidden--visually {border: 0;clip: rect(1px 1px 1px 1px);clip: rect(1px, 1px, 1px, 1px);height: 1px;margin: -1px;overflow: hidden;padding: 0;position: absolute;width: 1px;}#sk-container-id-1 div.sk-estimator {font-family: monospace;background-color: #f0f8ff;border: 1px dotted black;border-radius: 0.25em;box-sizing: border-box;margin-bottom: 0.5em;}#sk-container-id-1 div.sk-estimator:hover {background-color: #d4ebff;}#sk-container-id-1 div.sk-parallel-item::after {content: \"\";width: 100%;border-bottom: 1px solid gray;flex-grow: 1;}#sk-container-id-1 div.sk-label:hover label.sk-toggleable__label {background-color: #d4ebff;}#sk-container-id-1 div.sk-serial::before {content: \"\";position: absolute;border-left: 1px solid gray;box-sizing: border-box;top: 0;bottom: 0;left: 50%;z-index: 0;}#sk-container-id-1 div.sk-serial {display: flex;flex-direction: column;align-items: center;background-color: white;padding-right: 0.2em;padding-left: 0.2em;position: relative;}#sk-container-id-1 div.sk-item {position: relative;z-index: 1;}#sk-container-id-1 div.sk-parallel {display: flex;align-items: stretch;justify-content: center;background-color: white;position: relative;}#sk-container-id-1 div.sk-item::before, #sk-container-id-1 div.sk-parallel-item::before {content: \"\";position: absolute;border-left: 1px solid gray;box-sizing: border-box;top: 0;bottom: 0;left: 50%;z-index: -1;}#sk-container-id-1 div.sk-parallel-item {display: flex;flex-direction: column;z-index: 1;position: relative;background-color: white;}#sk-container-id-1 div.sk-parallel-item:first-child::after {align-self: flex-end;width: 50%;}#sk-container-id-1 div.sk-parallel-item:last-child::after {align-self: flex-start;width: 50%;}#sk-container-id-1 div.sk-parallel-item:only-child::after {width: 0;}#sk-container-id-1 div.sk-dashed-wrapped {border: 1px dashed gray;margin: 0 0.4em 0.5em 0.4em;box-sizing: border-box;padding-bottom: 0.4em;background-color: white;}#sk-container-id-1 div.sk-label label {font-family: monospace;font-weight: bold;display: inline-block;line-height: 1.2em;}#sk-container-id-1 div.sk-label-container {text-align: center;}#sk-container-id-1 div.sk-container {/* jupyter's `normalize.less` sets `[hidden] { display: none; }` but bootstrap.min.css set `[hidden] { display: none !important; }` so we also need the `!important` here to be able to override the default hidden behavior on the sphinx rendered scikit-learn.org. See: https://github.com/scikit-learn/scikit-learn/issues/21755 */display: inline-block !important;position: relative;}#sk-container-id-1 div.sk-text-repr-fallback {display: none;}</style><div id=\"sk-container-id-1\" class=\"sk-top-container\"><div class=\"sk-text-repr-fallback\"><pre>LinearRegression()</pre><b>In a Jupyter environment, please rerun this cell to show the HTML representation or trust the notebook. <br />On GitHub, the HTML representation is unable to render, please try loading this page with nbviewer.org.</b></div><div class=\"sk-container\" hidden><div class=\"sk-item\"><div class=\"sk-estimator sk-toggleable\"><input class=\"sk-toggleable__control sk-hidden--visually\" id=\"sk-estimator-id-1\" type=\"checkbox\" checked><label for=\"sk-estimator-id-1\" class=\"sk-toggleable__label sk-toggleable__label-arrow\">LinearRegression</label><div class=\"sk-toggleable__content\"><pre>LinearRegression()</pre></div></div></div></div></div>"
      ],
      "text/plain": [
       "LinearRegression()"
      ]
     },
     "execution_count": 12,
     "metadata": {},
     "output_type": "execute_result"
    }
   ],
   "source": [
    "funcao_regressao = LinearRegression()\n",
    "funcao_regressao.fit(x_train, y_train)"
   ]
  },
  {
   "cell_type": "code",
   "execution_count": 13,
   "id": "18b19a5a-7eb8-4038-8ce8-f46a12dcd902",
   "metadata": {},
   "outputs": [
    {
     "data": {
      "text/plain": [
       "0.7069305472715843"
      ]
     },
     "execution_count": 13,
     "metadata": {},
     "output_type": "execute_result"
    }
   ],
   "source": [
    "funcao_regressao.score(x_train, y_train)"
   ]
  },
  {
   "cell_type": "code",
   "execution_count": 14,
   "id": "8be6db57-c3a7-40df-ae7c-8e4fe5d2e38a",
   "metadata": {},
   "outputs": [],
   "source": [
    "\n",
    "coef_a = funcao_regressao.coef_\n",
    "coef_l = funcao_regressao.intercept_"
   ]
  },
  {
   "cell_type": "code",
   "execution_count": 15,
   "id": "df02a044-2b4e-47a7-8559-f45063e19cb6",
   "metadata": {},
   "outputs": [],
   "source": [
    "y_pred = funcao_regressao.predict(x_test)"
   ]
  },
  {
   "cell_type": "code",
   "execution_count": 16,
   "id": "ef880144-3480-4def-bb32-ca39ce3c2241",
   "metadata": {},
   "outputs": [
    {
     "name": "stdout",
     "output_type": "stream",
     "text": [
      "(149, 1)\n",
      "(149, 1)\n"
     ]
    }
   ],
   "source": [
    "print(y_pred.shape)\n",
    "print(y_test.shape)"
   ]
  },
  {
   "cell_type": "code",
   "execution_count": 17,
   "id": "1ed20b04-c956-4171-b8ec-115cf029a28a",
   "metadata": {},
   "outputs": [
    {
     "data": {
      "text/plain": [
       "array([[0.41057128, 1.29386864, 0.68862416]])"
      ]
     },
     "execution_count": 17,
     "metadata": {},
     "output_type": "execute_result"
    }
   ],
   "source": [
    "coef_a\n"
   ]
  },
  {
   "cell_type": "code",
   "execution_count": 18,
   "id": "2ae1dd96-db1f-4bac-b127-27892e0d367a",
   "metadata": {},
   "outputs": [
    {
     "data": {
      "text/plain": [
       "array([105.74613012])"
      ]
     },
     "execution_count": 18,
     "metadata": {},
     "output_type": "execute_result"
    }
   ],
   "source": [
    "coef_l"
   ]
  },
  {
   "cell_type": "markdown",
   "id": "6a94b571-fc15-451a-aae0-677387c59529",
   "metadata": {},
   "source": [
    "formula:  y = 0,41057*A + 1,29386864*B + 0,68862*C+ 105,74613"
   ]
  },
  {
   "cell_type": "code",
   "execution_count": 30,
   "id": "e1473249-69cf-4f6b-b403-5251cb5cc91c",
   "metadata": {},
   "outputs": [
    {
     "data": {
      "image/png": "[encoded data removed]",
      "text/plain": [
       "<Figure size 1000x600 with 1 Axes>"
      ]
     },
     "metadata": {},
     "output_type": "display_data"
    }
   ],
   "source": [
    "plt.figure(figsize=(10, 6))\n",
    "plt.scatter(y_pred, y_test, color='blue', alpha=0.7, label='Previsões vs. Valores Reais')\n",
    "plt.plot(y_test, y_test, linestyle='--', color='red', label='Linha de Referência Diagonal')\n",
    "plt.xlabel('Valores Previstos')\n",
    "plt.ylabel('Valores estimados')\n",
    "plt.title('Português: Gráfico de Dispersão: Previsões vs. Valores Reais')\n",
    "plt.legend()\n",
    "plt.grid(True)\n",
    "plt.tight_layout()\n",
    "plt.show()\n"
   ]
  },
  {
   "cell_type": "code",
   "execution_count": 20,
   "id": "212b849c-292c-48a1-98d4-3f9921b31fc9",
   "metadata": {},
   "outputs": [
    {
     "name": "stdout",
     "output_type": "stream",
     "text": [
      "RMSE: PROFICIENCIA    6.769983\n",
      "dtype: float64\n"
     ]
    },
    {
     "name": "stderr",
     "output_type": "stream",
     "text": [
      "/usr/local/lib/python3.8/dist-packages/numpy/core/fromnumeric.py:3430: FutureWarning: In a future version, DataFrame.mean(axis=None) will return a scalar mean over the entire DataFrame. To retain the old behavior, use 'frame.mean(axis=0)' or just 'frame.mean()'\n",
      "  return mean(axis=axis, dtype=dtype, out=out, **kwargs)\n"
     ]
    }
   ],
   "source": [
    "rmse = np.sqrt(np.mean((y_test - y_pred)**2))\n",
    "print(\"RMSE:\", rmse)"
   ]
  },
  {
   "cell_type": "code",
   "execution_count": 21,
   "id": "09ec6359-43b8-4947-8bc8-51527d1d890e",
   "metadata": {},
   "outputs": [
    {
     "name": "stdout",
     "output_type": "stream",
     "text": [
      "MAE: 4.95\n"
     ]
    }
   ],
   "source": [
    "from sklearn.metrics import mean_absolute_error\n",
    "mae = mean_absolute_error(y_test, y_pred)\n",
    "print(f'MAE: {mae:.2f}')"
   ]
  },
  {
   "cell_type": "code",
   "execution_count": 22,
   "id": "b7dc7b4b-b560-459e-964d-758ec52cdaa8",
   "metadata": {},
   "outputs": [
    {
     "name": "stdout",
     "output_type": "stream",
     "text": [
      "MAPE: 1.92%\n"
     ]
    }
   ],
   "source": [
    "def mean_absolute_percentage_error(y_true, y_pred):\n",
    "    return (np.abs((y_true - y_pred) / y_true)).mean() * 100\n",
    "y_true = y_test.values  \n",
    "y_pred = y_pred\n",
    "mape = mean_absolute_percentage_error(y_true, y_pred)\n",
    "print(f'MAPE: {mape:.2f}%')"
   ]
  },
  {
   "cell_type": "code",
   "execution_count": 67,
   "id": "72fa0c18-68b7-484c-b929-4c4c6b8d9d60",
   "metadata": {},
   "outputs": [
    {
     "name": "stderr",
     "output_type": "stream",
     "text": [
      "/usr/local/lib/python3.8/dist-packages/sklearn/neural_network/_multilayer_perceptron.py:1617: DataConversionWarning: A column-vector y was passed when a 1d array was expected. Please change the shape of y to (n_samples, ), for example using ravel().\n",
      "  y = column_or_1d(y, warn=True)\n"
     ]
    }
   ],
   "source": [
    "from sklearn.neural_network import MLPRegressor\n",
    "model = MLPRegressor(hidden_layer_sizes=(100, 50), activation='relu', solver='adam', max_iter=1000)\n",
    "model.fit(x_train, y_train)\n",
    "previsoes=model.predict(x_test)"
   ]
  },
  {
   "cell_type": "code",
   "execution_count": 68,
   "id": "e0f9e859-af77-4e67-ba31-2d767f8f360a",
   "metadata": {},
   "outputs": [
    {
     "name": "stdout",
     "output_type": "stream",
     "text": [
      "RMSE: 13.314841170038735\n"
     ]
    }
   ],
   "source": [
    "from sklearn.metrics import mean_squared_error\n",
    "rmse = np.sqrt(mean_squared_error(y_test, previsoes))\n",
    "print(\"RMSE:\", rmse)"
   ]
  },
  {
   "cell_type": "code",
   "execution_count": 69,
   "id": "b33b20b5-a24b-4427-83db-4fc6dff29dd7",
   "metadata": {},
   "outputs": [
    {
     "name": "stdout",
     "output_type": "stream",
     "text": [
      "MAE: 9.62\n"
     ]
    }
   ],
   "source": [
    "from sklearn.metrics import mean_absolute_error\n",
    "mae = mean_absolute_error(y_test, previsoes)\n",
    "print(f'MAE: {mae:.2f}')"
   ]
  },
  {
   "cell_type": "code",
   "execution_count": 70,
   "id": "73f211ac-631b-413e-87e0-22311ee37968",
   "metadata": {},
   "outputs": [
    {
     "name": "stdout",
     "output_type": "stream",
     "text": [
      "MAPE: 7.72%\n"
     ]
    }
   ],
   "source": [
    "def mean_absolute_percentage_error(y_true, previsoes):\n",
    "    return (np.abs((y_true - previsoes) / y_true)).mean() * 100\n",
    "y_true = y_test.values  \n",
    "previsoes = previsoes\n",
    "mape = mean_absolute_percentage_error(y_true, previsoes)\n",
    "print(f'MAPE: {mape:.2f}%')"
   ]
  },
  {
   "cell_type": "code",
   "execution_count": null,
   "id": "3a7efce4-49b3-4d9e-8304-273da6517765",
   "metadata": {},
   "outputs": [],
   "source": []
  }
 ],
 "metadata": {
  "kernelspec": {
   "display_name": "Python 3 (ipykernel)",
   "language": "python",
   "name": "python3"
  },
  "language_info": {
   "codemirror_mode": {
    "name": "ipython",
    "version": 3
   },
   "file_extension": ".py",
   "mimetype": "text/x-python",
   "name": "python",
   "nbconvert_exporter": "python",
   "pygments_lexer": "ipython3",
   "version": "3.8.10"
  }
 },
 "nbformat": 4,
 "nbformat_minor": 5
}
